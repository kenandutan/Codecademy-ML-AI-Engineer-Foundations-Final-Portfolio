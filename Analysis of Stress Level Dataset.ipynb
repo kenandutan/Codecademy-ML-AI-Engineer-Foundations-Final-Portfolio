{
 "cells": [
  {
   "cell_type": "code",
   "execution_count": 2,
   "id": "f61545c3",
   "metadata": {
    "scrolled": true
   },
   "outputs": [
    {
     "name": "stdout",
     "output_type": "stream",
     "text": [
      "   anxiety_level  self_esteem  mental_health_history  depression  headache  \\\n",
      "0             14           20                      0          11         2   \n",
      "1             15            8                      1          15         5   \n",
      "2             12           18                      1          14         2   \n",
      "3             16           12                      1          15         4   \n",
      "4             16           28                      0           7         2   \n",
      "\n",
      "   blood_pressure  sleep_quality  breathing_problem  noise_level  \\\n",
      "0               1              2                  4            2   \n",
      "1               3              1                  4            3   \n",
      "2               1              2                  2            2   \n",
      "3               3              1                  3            4   \n",
      "4               3              5                  1            3   \n",
      "\n",
      "   living_conditions  ...  basic_needs  academic_performance  study_load  \\\n",
      "0                  3  ...            2                     3           2   \n",
      "1                  1  ...            2                     1           4   \n",
      "2                  2  ...            2                     2           3   \n",
      "3                  2  ...            2                     2           4   \n",
      "4                  2  ...            3                     4           3   \n",
      "\n",
      "   teacher_student_relationship  future_career_concerns  social_support  \\\n",
      "0                             3                       3               2   \n",
      "1                             1                       5               1   \n",
      "2                             3                       2               2   \n",
      "3                             1                       4               1   \n",
      "4                             1                       2               1   \n",
      "\n",
      "   peer_pressure  extracurricular_activities  bullying  stress_level  \n",
      "0              3                           3         2             1  \n",
      "1              4                           5         5             2  \n",
      "2              3                           2         2             1  \n",
      "3              4                           4         5             2  \n",
      "4              5                           0         5             1  \n",
      "\n",
      "[5 rows x 21 columns]\n"
     ]
    }
   ],
   "source": [
    "import pandas as pd\n",
    "\n",
    "stress_data = pd.read_csv('StressLevelDataset.csv')\n",
    "\n",
    "#Testing to see what the first 5 rows of data look like\n",
    "\n",
    "print(stress_data.head())"
   ]
  },
  {
   "cell_type": "code",
   "execution_count": 3,
   "id": "bd6c14c4",
   "metadata": {
    "scrolled": true
   },
   "outputs": [
    {
     "name": "stdout",
     "output_type": "stream",
     "text": [
      "The total number of students in the dataset is 1100.\n",
      "The average anxiety level of the students is 11.06 with the maximum anxiety level at 21.\n",
      "The number of students with a reported history of mental illness is 542. Out of the 1100 students surveyed, about 49.3% of the total have a history of mental illness.\n"
     ]
    }
   ],
   "source": [
    "#The values in the data reflect a scale, which is a form of discrete data.\n",
    "\n",
    "total_students = len(stress_data)\n",
    "\n",
    "print(f'The total number of students in the dataset is {total_students}.')\n",
    "\n",
    "anxiety_level_mean = stress_data['anxiety_level'].mean()\n",
    "anxiety_level_max = stress_data['anxiety_level'].max()\n",
    "print(f'The average anxiety level of the students is {anxiety_level_mean.round(2)} with the maximum anxiety level at {anxiety_level_max}.')\n",
    "\n",
    "mental_health_hist_count = stress_data['mental_health_history'].value_counts()[1]\n",
    "percent_mental_health_hist = (mental_health_hist_count/total_students)*100\n",
    "print(f\"The number of students with a reported history of mental illness is {mental_health_hist_count}. Out of the {total_students} students surveyed, about {percent_mental_health_hist.round(1)}% of the total have a history of mental illness.\")"
   ]
  },
  {
   "cell_type": "code",
   "execution_count": 6,
   "id": "0594b011",
   "metadata": {},
   "outputs": [
    {
     "name": "stdout",
     "output_type": "stream",
     "text": [
      "The number of students that are below the average self-esteem of 17.8 is 507.\n",
      "82.0% of the students surveyed reported experiencing some level of depression.\n"
     ]
    }
   ],
   "source": [
    "self_esteem_mean = stress_data.self_esteem.mean()\n",
    "num_self_esteem_below_mean = len(stress_data[stress_data['self_esteem']<self_esteem_mean])\n",
    "\n",
    "print(f'The number of students that are below the average self-esteem of {self_esteem_mean.round(1)} is {num_self_esteem_below_mean}.')\n",
    "\n",
    "#Using the PHQ-9 Rating to measure depression, anything greater than 4 is a form of depression\n",
    "\n",
    "num_depression_above_zero = len(stress_data[stress_data['depression']>4])\n",
    "percent_depression = (num_depression_above_zero/total_students)*100\n",
    "print(f'{percent_depression}% of the students surveyed reported experiencing some level of depression.')"
   ]
  },
  {
   "cell_type": "code",
   "execution_count": 9,
   "id": "284d02e5",
   "metadata": {},
   "outputs": [
    {
     "ename": "SyntaxError",
     "evalue": "(unicode error) 'unicodeescape' codec can't decode bytes in position 2-3: truncated \\UXXXXXXXX escape (2272860161.py, line 2)",
     "output_type": "error",
     "traceback": [
      "\u001b[1;36m  Cell \u001b[1;32mIn[9], line 2\u001b[1;36m\u001b[0m\n\u001b[1;33m    display.Image(\"C:\\Users\\kenan\\OneDrive\\Documents\\GitHub\\Codecademy-ML-AI-Engineer-Foundations-Final-Portfolio\\phq-9.png\")\u001b[0m\n\u001b[1;37m                                                                                                                            ^\u001b[0m\n\u001b[1;31mSyntaxError\u001b[0m\u001b[1;31m:\u001b[0m (unicode error) 'unicodeescape' codec can't decode bytes in position 2-3: truncated \\UXXXXXXXX escape\n"
     ]
    }
   ],
   "source": [
    "from IPython import display\n",
    "display.Image(\"C:\\Users\\kenan\\OneDrive\\Documents\\GitHub\\Codecademy-ML-AI-Engineer-Foundations-Final-Portfolio\\phq-9.png\")"
   ]
  },
  {
   "cell_type": "code",
   "execution_count": 5,
   "id": "676a81ad",
   "metadata": {},
   "outputs": [
    {
     "name": "stdout",
     "output_type": "stream",
     "text": [
      "269 students experience headaches frequently.\n",
      "The average blood pressure is 2.2\n"
     ]
    }
   ],
   "source": [
    "#On a scale from 0 to 5, with anything over 3 as \"frequent headaches\"\n",
    "num_headache_frequent = len(stress_data[stress_data['headache']>3])\n",
    "\n",
    "print(f'{num_headache_frequent} students experience headaches frequently.')\n",
    "\n",
    "#On a scale from 1 to 3\n",
    "blood_pressure_mean = stress_data.blood_pressure.mean().round(1)\n",
    "\n",
    "print(f'The average blood pressure ratin is {blood_pressure_mean}')"
   ]
  }
 ],
 "metadata": {
  "kernelspec": {
   "display_name": "Python 3 (ipykernel)",
   "language": "python",
   "name": "python3"
  },
  "language_info": {
   "codemirror_mode": {
    "name": "ipython",
    "version": 3
   },
   "file_extension": ".py",
   "mimetype": "text/x-python",
   "name": "python",
   "nbconvert_exporter": "python",
   "pygments_lexer": "ipython3",
   "version": "3.11.4"
  }
 },
 "nbformat": 4,
 "nbformat_minor": 5
}
