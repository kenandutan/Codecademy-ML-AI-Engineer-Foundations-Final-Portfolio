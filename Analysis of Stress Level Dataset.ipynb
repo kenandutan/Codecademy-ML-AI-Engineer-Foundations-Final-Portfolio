{
 "cells": [
  {
   "cell_type": "code",
   "execution_count": 1,
   "id": "f085e2f5",
   "metadata": {},
   "outputs": [
    {
     "name": "stdout",
     "output_type": "stream",
     "text": [
      "   anxiety_level  self_esteem  mental_health_history  depression  headache  \\\n",
      "0             14           20                      0          11         2   \n",
      "1             15            8                      1          15         5   \n",
      "2             12           18                      1          14         2   \n",
      "3             16           12                      1          15         4   \n",
      "4             16           28                      0           7         2   \n",
      "\n",
      "   blood_pressure  sleep_quality  breathing_problem  noise_level  \\\n",
      "0               1              2                  4            2   \n",
      "1               3              1                  4            3   \n",
      "2               1              2                  2            2   \n",
      "3               3              1                  3            4   \n",
      "4               3              5                  1            3   \n",
      "\n",
      "   living_conditions  ...  basic_needs  academic_performance  study_load  \\\n",
      "0                  3  ...            2                     3           2   \n",
      "1                  1  ...            2                     1           4   \n",
      "2                  2  ...            2                     2           3   \n",
      "3                  2  ...            2                     2           4   \n",
      "4                  2  ...            3                     4           3   \n",
      "\n",
      "   teacher_student_relationship  future_career_concerns  social_support  \\\n",
      "0                             3                       3               2   \n",
      "1                             1                       5               1   \n",
      "2                             3                       2               2   \n",
      "3                             1                       4               1   \n",
      "4                             1                       2               1   \n",
      "\n",
      "   peer_pressure  extracurricular_activities  bullying  stress_level  \n",
      "0              3                           3         2             1  \n",
      "1              4                           5         5             2  \n",
      "2              3                           2         2             1  \n",
      "3              4                           4         5             2  \n",
      "4              5                           0         5             1  \n",
      "\n",
      "[5 rows x 21 columns]\n"
     ]
    }
   ],
   "source": [
    "import pandas as pd\n",
    "\n",
    "stress_data = pd.read_csv('StressLevelDataset.csv')\n",
    "\n",
    "print(stress_data.head())"
   ]
  },
  {
   "cell_type": "code",
   "execution_count": 19,
   "id": "2bc47b3f",
   "metadata": {},
   "outputs": [
    {
     "name": "stdout",
     "output_type": "stream",
     "text": [
      "The total number of students in the dataset is 1100\n"
     ]
    }
   ],
   "source": [
    "total_students = len(stress_data)\n",
    "\n",
    "print(f'The total number of students in the dataset is {total_students}')"
   ]
  },
  {
   "cell_type": "code",
   "execution_count": 15,
   "id": "f5734e36",
   "metadata": {},
   "outputs": [
    {
     "name": "stdout",
     "output_type": "stream",
     "text": [
      "The average anxiety level of the students is 11.06 with the maximum anxiety level at 21\n"
     ]
    }
   ],
   "source": [
    "anxiety_level_mean = stress_data['anxiety_level'].mean()\n",
    "anxiety_level_max = stress_data['anxiety_level'].max()\n",
    "print(f'The average anxiety level of the students is {anxiety_level_mean.round(2)} with the maximum anxiety level at {anxiety_level_max}')"
   ]
  },
  {
   "cell_type": "code",
   "execution_count": 16,
   "id": "aaf700db",
   "metadata": {},
   "outputs": [
    {
     "name": "stdout",
     "output_type": "stream",
     "text": [
      "The number of students with a reported history of mental illness is 542\n"
     ]
    }
   ],
   "source": [
    "mental_health_hist_count = stress_data['mental_health_history'].value_counts()[1]\n",
    "percent_mental_health_hist = mental_health_hist_count/total_students\n",
    "print(f\"The number of students with a reported history of mental illness is {mental_health_hist_count}. Out of the total {total_students} students surveyed, about {percent_mental_health_hist.round(1)}%\")"
   ]
  }
 ],
 "metadata": {
  "kernelspec": {
   "display_name": "Python 3 (ipykernel)",
   "language": "python",
   "name": "python3"
  },
  "language_info": {
   "codemirror_mode": {
    "name": "ipython",
    "version": 3
   },
   "file_extension": ".py",
   "mimetype": "text/x-python",
   "name": "python",
   "nbconvert_exporter": "python",
   "pygments_lexer": "ipython3",
   "version": "3.11.4"
  }
 },
 "nbformat": 4,
 "nbformat_minor": 5
}
